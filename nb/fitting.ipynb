{
 "cells": [
  {
   "cell_type": "markdown",
   "metadata": {},
   "source": [
    "# Fit the Composite Spectra"
   ]
  },
  {
   "cell_type": "code",
   "execution_count": 1,
   "metadata": {},
   "outputs": [],
   "source": [
    "import os\n",
    "import re\n",
    "import numpy as np\n",
    "import pandas as pd\n",
    "import matplotlib.pyplot as plt\n",
    "from tqdm import tqdm\n",
    "from multiprocessing import Pool\n",
    "\n",
    "import mfp\n",
    "import emcee\n",
    "import corner\n",
    "from astropy.io import fits\n",
    "from astropy.table import Table\n"
   ]
  },
  {
   "cell_type": "code",
   "execution_count": 2,
   "metadata": {},
   "outputs": [
    {
     "name": "stdout",
     "output_type": "stream",
     "text": [
      "['spec_3.200-3.236_snr3_even_zerr_0.5A.npz'\n",
      " 'spec_3.236-3.275_snr3_even_zerr_0.5A.npz'\n",
      " 'spec_3.275-3.320_snr3_even_zerr_0.5A.npz'\n",
      " 'spec_3.320-3.364_snr3_even_zerr_0.5A.npz'\n",
      " 'spec_3.364-3.415_snr3_even_zerr_0.5A.npz'\n",
      " 'spec_3.415-3.474_snr3_even_zerr_0.5A.npz'\n",
      " 'spec_3.474-3.539_snr3_even_zerr_0.5A.npz'\n",
      " 'spec_3.539-3.613_snr3_even_zerr_0.5A.npz'\n",
      " 'spec_3.613-3.696_snr3_even_zerr_0.5A.npz'\n",
      " 'spec_3.696-3.756_snr3_even_zerr_0.5A.npz'\n",
      " 'spec_3.756-3.808_snr3_even_zerr_0.5A.npz'\n",
      " 'spec_3.808-3.866_snr3_even_zerr_0.5A.npz'\n",
      " 'spec_3.866-3.931_snr3_even_zerr_0.5A.npz'\n",
      " 'spec_3.931-4.024_snr3_even_zerr_0.5A.npz'\n",
      " 'spec_4.024-4.161_snr3_even_zerr_0.5A.npz'\n",
      " 'spec_4.161-4.434_snr3_even_zerr_0.5A.npz'\n",
      " 'spec_4.434-4.600_snr3_even_zerr_0.5A.npz']\n"
     ]
    }
   ],
   "source": [
    "# find the data files\n",
    "snr_cut = 3\n",
    "wvmin = 800\n",
    "files_all = os.listdir('./data/specs/')\n",
    "files = np.sort([f for f in files_all if re.match(f'spec_[0-9.]*-[0-9.]*_snr{snr_cut}_even_zerr_0\\.5A.npz', f)])\n",
    "print(files)"
   ]
  },
  {
   "cell_type": "code",
   "execution_count": 3,
   "metadata": {},
   "outputs": [
    {
     "name": "stderr",
     "output_type": "stream",
     "text": [
      "100%|██████████| 17/17 [35:33<00:00, 125.47s/it]\n"
     ]
    }
   ],
   "source": [
    "# Fiducial Model with DESI data and T02 template\n",
    "def fit(filename):\n",
    "    data = np.load(f'./data/specs/{filename}')\n",
    "    wave_fin = data['wave_fin']\n",
    "    flux_tot = data['flux_tot']\n",
    "    flux_boot = data['flux_boot']\n",
    "    flux_telfer = data['flux_telfer']\n",
    "    error_tot = data['error_tot']\n",
    "    zmed = data['zmed']\n",
    "    z_interval = data['z_interval']\n",
    "\n",
    "    model = mfp.model.Fiducial(mcmc_params={\"init\":(1, 200), \"prior\":((0., 3.), (0., 1000.)),\n",
    "                                    \"run_params\":{\"nwalkers\":32, \"nsteps\":300, \"nburn\":200}})\n",
    "\n",
    "    sample, samplers, model = mfp.fitting.model_fit(wave_fin, flux_tot, error_tot, flux_telfer=flux_telfer,\n",
    "                                                    zmed=zmed, wvmin=wvmin, wvmax=912, method='mcmc',\n",
    "                                                    model=model, flux_boot=flux_boot)\n",
    "\n",
    "    return zmed, sample, samplers, model\n",
    "\n",
    "results = []\n",
    "for i in tqdm(range(len(files))):\n",
    "    results.append(fit(files[i]))\n",
    "\n",
    "zmeds_fid = np.array([r[0] for r in results])\n",
    "samples_fid = np.array([r[1] for r in results])\n",
    "samplers_fid = np.array([r[2] for r in results])\n",
    "models_fid = np.array([r[3] for r in results])\n"
   ]
  },
  {
   "cell_type": "code",
   "execution_count": 4,
   "metadata": {},
   "outputs": [
    {
     "name": "stderr",
     "output_type": "stream",
     "text": [
      "100%|██████████| 200000/200000 [00:25<00:00, 7865.78it/s] \n",
      "100%|██████████| 200000/200000 [00:25<00:00, 7982.48it/s] \n",
      "100%|██████████| 200000/200000 [00:25<00:00, 7989.83it/s] \n",
      "100%|██████████| 200000/200000 [00:25<00:00, 7745.71it/s] \n",
      "100%|██████████| 200000/200000 [00:25<00:00, 7988.90it/s] \n",
      "100%|██████████| 200000/200000 [00:24<00:00, 8018.25it/s] \n",
      "100%|██████████| 200000/200000 [00:25<00:00, 7797.76it/s] \n",
      "100%|██████████| 200000/200000 [00:24<00:00, 8003.92it/s] \n",
      "100%|██████████| 200000/200000 [00:24<00:00, 8019.01it/s] \n",
      "100%|██████████| 200000/200000 [00:25<00:00, 7994.02it/s] \n",
      "100%|██████████| 200000/200000 [00:24<00:00, 8003.18it/s] \n",
      "100%|██████████| 200000/200000 [00:25<00:00, 7997.85it/s] \n",
      "100%|██████████| 200000/200000 [00:27<00:00, 7178.18it/s] \n",
      "100%|██████████| 200000/200000 [00:27<00:00, 7162.17it/s] \n",
      "100%|██████████| 200000/200000 [00:31<00:00, 6403.66it/s] \n",
      "100%|██████████| 200000/200000 [00:37<00:00, 5350.57it/s] \n",
      "100%|██████████| 200000/200000 [00:36<00:00, 5521.33it/s] \n"
     ]
    }
   ],
   "source": [
    "# calculate MFP and save the file\n",
    "def helper(model, s):\n",
    "    return model.mfp_calculation(s)\n",
    "\n",
    "mfps_fid = []\n",
    "for i in range(17):\n",
    "    indices = np.random.choice(range(samples_fid.shape[1]), 200000, replace=True)\n",
    "    sample = samples_fid[i][indices]\n",
    "    model = models_fid[i]\n",
    "    with Pool(10) as p:\n",
    "        mfp_this = p.starmap(helper, tqdm([(model, s) for s in sample]))\n",
    "    mfps_fid.append(mfp_this)\n",
    "\n",
    "np.savez('./data/sample_DESI_Fiducial_350.npz', zmeds=zmeds_fid, samples=samples_fid, samplers=samplers_fid, models=models_fid, mfps=mfps_fid)"
   ]
  },
  {
   "cell_type": "code",
   "execution_count": 5,
   "metadata": {},
   "outputs": [
    {
     "name": "stdout",
     "output_type": "stream",
     "text": [
      "['stack_DR7_z3.71_z3.76.fits' 'stack_DR7_z3.76_z3.81.fits'\n",
      " 'stack_DR7_z3.81_z3.86.fits' 'stack_DR7_z3.86_z3.92.fits'\n",
      " 'stack_DR7_z3.92_z4.02.fits' 'stack_DR7_z4.02_z4.13.fits'\n",
      " 'stack_DR7_z4.13_z4.34.fits']\n"
     ]
    },
    {
     "name": "stderr",
     "output_type": "stream",
     "text": [
      "100%|██████████| 7/7 [03:18<00:00, 28.34s/it]\n",
      "100%|██████████| 200000/200000 [00:31<00:00, 6449.43it/s] \n",
      "100%|██████████| 200000/200000 [00:32<00:00, 6211.73it/s] \n",
      "100%|██████████| 200000/200000 [00:32<00:00, 6228.54it/s] \n",
      "100%|██████████| 200000/200000 [00:35<00:00, 5699.66it/s] \n",
      "100%|██████████| 200000/200000 [00:32<00:00, 6216.35it/s] \n",
      "100%|██████████| 200000/200000 [00:31<00:00, 6252.45it/s] \n",
      "100%|██████████| 200000/200000 [00:32<00:00, 6221.86it/s] \n"
     ]
    }
   ],
   "source": [
    "# SDSS Data remeasurements with Fiducial Model\n",
    "files_sdss = np.sort(np.array([file for file in os.listdir('./data/previous/') if re.match('^.*DR7.*$', file)]))[-7:]\n",
    "print(files_sdss)\n",
    "df_telfer = pd.read_csv('./data/telfer.asc', comment='#', delimiter='\\s+', header=None)\n",
    "cat = Table(fits.open('./data/previous/sdss_mfp_summ.fits')[1].data[-7:])\n",
    "\n",
    "def fit(filename):\n",
    "    data = fits.open(f'./data/previous/{filename}')\n",
    "    wave_fin = data[2].data\n",
    "    flux_tot = data[0].data\n",
    "    flux_boot = data[3].data.T\n",
    "    error_tot = data[1].data / np.sqrt(150)\n",
    "    zmed = cat['ZQSO'][i]\n",
    "    z_interval = cat['ZMNX'][i]\n",
    "\n",
    "    z912 = wave_fin/912 * (1+zmed) - 1\n",
    "    mask = (z912<zmed) & (z912>zmed-0.4) & (wave_fin<905) & (wave_fin*(1+zmed)>3900)\n",
    "    wvmin = np.min(wave_fin[mask])\n",
    "\n",
    "    flux_telfer = mfp.utils.telfer(wave_fin, np.array(df_telfer[0]), np.array(df_telfer[1]))\n",
    "\n",
    "    model = mfp.model.Fiducial(mcmc_params={\"init\":(1, 200), \"prior\":((0., 3.), (0., 1000.)),\n",
    "                                    \"run_params\":{\"nwalkers\":32, \"nsteps\":300, \"nburn\":200}})\n",
    "\n",
    "    sample, samplers, model = mfp.fitting.model_fit(wave_fin, flux_tot, error_tot, flux_telfer=flux_telfer, flux_boot=flux_boot,\n",
    "                                                    zmed=zmed, wvmin=wvmin, wvmax=912, method='mcmc', model=model)\n",
    "\n",
    "    return zmed, sample, samplers, model\n",
    "\n",
    "results = []\n",
    "for i in tqdm(range(len(files_sdss))):\n",
    "    results.append(fit(files_sdss[i]))\n",
    "\n",
    "zmeds_sdss = np.array([r[0] for r in results])\n",
    "samples_sdss = np.array([r[1] for r in results])\n",
    "samplers_sdss = np.array([r[2] for r in results])\n",
    "models_sdss = np.array([r[3] for r in results])\n",
    "\n",
    "def helper(model, s):\n",
    "    return model.mfp_calculation(s)\n",
    "\n",
    "mfps_sdss = []\n",
    "for i in range(samples_sdss.shape[0]):\n",
    "    indices = np.random.choice(range(samples_sdss.shape[1]), 200000, replace=True)\n",
    "    sample = samples_sdss[i][indices]\n",
    "    model = models_sdss[i]\n",
    "    with Pool(10) as p:\n",
    "        mfp_this = p.starmap(helper, tqdm([(model, s) for s in sample]))\n",
    "    mfps_sdss.append(mfp_this)\n",
    "\n",
    "np.savez('./data/sample_SDSS_remeasure.npz', zmeds=zmeds_sdss, samples=samples_sdss, samplers=samplers_sdss, models=models_sdss, mfps=mfps_sdss)"
   ]
  },
  {
   "cell_type": "code",
   "execution_count": 6,
   "metadata": {},
   "outputs": [
    {
     "data": {
      "image/png": "[encoded data removed]",
      "text/plain": [
       "<Figure size 640x480 with 1 Axes>"
      ]
     },
     "metadata": {},
     "output_type": "display_data"
    }
   ],
   "source": [
    "plt.errorbar(zmeds_sdss, [np.mean(m) for m in mfps_sdss], yerr=[np.std(m) for m in mfps_sdss], fmt='o', color='k')\n",
    "plt.errorbar(zmeds_fid, [np.mean(m) for m in mfps_fid], yerr=[np.std(m) for m in mfps_fid], fmt='o', color='r')\n",
    "zs = np.linspace(2, 5, 100)\n",
    "mfp_W14 = 37 * ((1 + zs) / 5)**(-5.4)\n",
    "mfp_me = 33.87 * ((1 + zs) / 5)**(-4.2)\n",
    "plt.plot(zs, mfp_W14, color='r', label='Worseck et al. 2014')\n",
    "plt.plot(zs, mfp_me, color='b', label='This work')\n",
    "plt.yscale('log')\n",
    "plt.xlim(3.15, 4.6)\n",
    "plt.ylim(20, 80)\n",
    "plt.legend()\n",
    "plt.show()"
   ]
  }
 ],
 "metadata": {
  "kernelspec": {
   "display_name": "Python 3",
   "language": "python",
   "name": "python3"
  },
  "language_info": {
   "codemirror_mode": {
    "name": "ipython",
    "version": 3
   },
   "file_extension": ".py",
   "mimetype": "text/x-python",
   "name": "python",
   "nbconvert_exporter": "python",
   "pygments_lexer": "ipython3",
   "version": "3.11.6"
  }
 },
 "nbformat": 4,
 "nbformat_minor": 2
}
